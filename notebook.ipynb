{
 "cells": [
  {
   "cell_type": "markdown",
   "metadata": {},
   "source": [
    "###1. Download the red and white wine .csv files and import them. The first 11 columns are features and the final column is the target."
   ]
  },
  {
   "cell_type": "code",
   "execution_count": 1,
   "metadata": {
    "collapsed": false
   },
   "outputs": [],
   "source": [
    "import numpy as np\n",
    "import matplotlib.pyplot as plt\n",
    "\n",
    "red_data = np.loadtxt('winequality-red.csv', delimiter=';', skiprows=1)\n",
    "white_data  = np.loadtxt('winequality-white.csv', delimiter=';', skiprows=1)\n",
    "\n",
    "w_qualities = white_data[:,11]\n",
    "r_qualities = red_data[:,11]"
   ]
  },
  {
   "cell_type": "markdown",
   "metadata": {},
   "source": [
    "###2. Plot bar-plots of the number of examples with each target value for the two datasets."
   ]
  },
  {
   "cell_type": "code",
   "execution_count": 2,
   "metadata": {
    "collapsed": false
   },
   "outputs": [
    {
     "data": {
      "text/plain": [
       "<Container object of 7 artists>"
      ]
     },
     "execution_count": 2,
     "metadata": {},
     "output_type": "execute_result"
    },
    {
     "data": {
      "image/png": "[encoded data removed]",
      "text/plain": [
       "<matplotlib.figure.Figure at 0x7f82d501b2e8>"
      ]
     },
     "metadata": {},
     "output_type": "display_data"
    }
   ],
   "source": [
    "#Obtain quality ranges and counts\n",
    "w_quality_range, w_counts = np.unique(w_qualities, return_counts=True)\n",
    "r_quality_range, r_counts = np.unique(r_qualities, return_counts=True)\n",
    "\n",
    "#Plot qualities for both white and red wine\n",
    "\n",
    "%matplotlib inline\n",
    "fig = plt.figure(figsize=(12,6))\n",
    "ax1 = fig.add_subplot(121)\n",
    "ax1.set_xlabel('quality')\n",
    "plt.bar(r_quality_range, r_counts, color='r')\n",
    "\n",
    "ax2 = fig.add_subplot(122)\n",
    "ax2.set_xlabel('quality')\n",
    "plt.bar(w_quality_range, w_counts, color='w')"
   ]
  },
  {
   "cell_type": "markdown",
   "metadata": {},
   "source": [
    "###3.Comment on these distributions. How might they effect the analysis?"
   ]
  },
  {
   "cell_type": "markdown",
   "metadata": {
    "collapsed": false
   },
   "source": []
  },
  {
   "cell_type": "markdown",
   "metadata": {},
   "source": [
    "###4. (Linear Regression)"
   ]
  },
  {
   "cell_type": "markdown",
   "metadata": {},
   "source": [
    "####(a) Randomly Select 30% of red wine data for testing, and 70% for training"
   ]
  },
  {
   "cell_type": "code",
   "execution_count": 3,
   "metadata": {
    "collapsed": false
   },
   "outputs": [],
   "source": [
    "# Set for consistancy\n",
    "np.random.seed(14324)\n",
    "\n",
    "features = red_data[:,:11]\n",
    "features = np.hstack((np.ones_like(features[:,:1]), features))\n",
    "target = red_data[:,11]\n",
    "\n",
    "#Obtain how many rows we need for training\n",
    "n_train_rows = np.floor((red_data.shape[0] * 0.7))\n",
    "#Choose a random set of row numbers to use as training data\n",
    "train_rows_nums = np.random.choice(red_data.shape[0], n_train_rows, replace=False)\n",
    "#Extract training data\n",
    "train_data = red_data[train_rows_nums]\n",
    "#The rest are test data\n",
    "test_data = np.delete(red_data, train_rows_nums, axis=0)\n",
    "test_features = np.delete(features, train_rows_nums, axis=0)\n",
    "test_target = np.delete(target, train_rows_nums, axis=0)"
   ]
  },
  {
   "cell_type": "markdown",
   "metadata": {},
   "source": [
    "####(b) Fit a linear regression to the training data"
   ]
  },
  {
   "cell_type": "code",
   "execution_count": 4,
   "metadata": {
    "collapsed": false
   },
   "outputs": [],
   "source": [
    "x = train_data[:,:11]\n",
    "y = train_data[:,11]\n",
    "\n",
    "#Work out optimal value of w\n",
    "X = np.hstack((np.ones_like(x[:,:1]), x))\n",
    "w = np.linalg.solve(np.dot(X.T, X), np.dot(X.T, y))"
   ]
  },
  {
   "cell_type": "markdown",
   "metadata": {},
   "source": [
    "####(c) Make a scatter plot the predictions versus the true targets for the test set and compute the\n",
    "mean squared error on the test set"
   ]
  },
  {
   "cell_type": "code",
   "execution_count": 5,
   "metadata": {
    "collapsed": false
   },
   "outputs": [
    {
     "name": "stdout",
     "output_type": "stream",
     "text": [
      "0.41460173754\n"
     ]
    },
    {
     "data": {
      "image/png": "[encoded data removed]",
      "text/plain": [
       "<matplotlib.figure.Figure at 0x7f82f0141d68>"
      ]
     },
     "metadata": {},
     "output_type": "display_data"
    }
   ],
   "source": [
    "actual = test_target\n",
    "\n",
    "predictions = np.dot(test_features, w)\n",
    "plt.plot(predictions, predictions, 'b-', linewidth=2)\n",
    "plt.plot(predictions, actual, 'ro')\n",
    "plt.xlabel('Predictions')\n",
    "plt.ylabel('Actual')\n",
    "\n",
    "msqErr = ((actual - predictions)**2).mean()\n",
    "print(msqErr)"
   ]
  },
  {
   "cell_type": "markdown",
   "metadata": {},
   "source": [
    "####(d) Suggest a benchmark that you could use to decide if this mean squared error value is good."
   ]
  },
  {
   "cell_type": "markdown",
   "metadata": {},
   "source": [
    "Mean squared error is a relative measurement, so the only way to decide if it's \"good\" is to compare it against the MSE of another model. We'll calculate the MSE of the linear regression model with no training (the MSE will clrearly be higher due to fitting for the entire data set), and then calculate the "
   ]
  },
  {
   "cell_type": "markdown",
   "metadata": {},
   "source": [
    "####(e) Implement your benchmark"
   ]
  },
  {
   "cell_type": "code",
   "execution_count": 6,
   "metadata": {
    "collapsed": false
   },
   "outputs": [
    {
     "name": "stdout",
     "output_type": "stream",
     "text": [
      "0.416767167221\n"
     ]
    }
   ],
   "source": [
    "#Work out optimal value of w\n",
    "w = np.linalg.solve(np.dot(X.T, X), np.dot(X.T, y))\n",
    "w = np.linalg.solve(np.dot(features.T, features),\n",
    "                    np.dot(features.T, target))\n",
    "actual = target\n",
    "predictions = np.dot(features, w)\n",
    "msq = ((actual - predictions)**2).mean()\n",
    "print(msq)"
   ]
  },
  {
   "cell_type": "markdown",
   "metadata": {},
   "source": [
    "####(f) Briefly discuss the linear regression performance with respect to the benchmark."
   ]
  },
  {
   "cell_type": "markdown",
   "metadata": {},
   "source": []
  },
  {
   "cell_type": "markdown",
   "metadata": {},
   "source": [
    "###5. Regularised linear regression"
   ]
  },
  {
   "cell_type": "markdown",
   "metadata": {},
   "source": [
    "####(a) Implement regularised least squares and make a plot of the test performance versus the regularisation parameter."
   ]
  },
  {
   "cell_type": "code",
   "execution_count": 12,
   "metadata": {
    "collapsed": false
   },
   "outputs": [
    {
     "data": {
      "text/plain": [
       "[<matplotlib.lines.Line2D at 0x7f82d0a88cf8>]"
      ]
     },
     "execution_count": 12,
     "metadata": {},
     "output_type": "execute_result"
    },
    {
     "data": {
      "image/png": "[encoded data removed]",
      "text/plain": [
       "<matplotlib.figure.Figure at 0x7f82d0ac62b0>"
      ]
     },
     "metadata": {},
     "output_type": "display_data"
    }
   ],
   "source": [
    "x = train_data[:,:11]\n",
    "y = train_data[:,11]\n",
    "X = np.hstack((np.ones_like(x[:,:1]), x))\n",
    "\n",
    "dims = X.shape[1]\n",
    "msq_errs = []\n",
    "lambs = np.linspace(0, 10.0, num=1000)\n",
    "\n",
    "for lamb in lambs:\n",
    "    w = np.linalg.solve(np.dot(X.T, X) + lamb*np.identity(dims),\n",
    "                        np.dot(X.T, y))\n",
    "    f_test = np.dot(test_features, w)\n",
    "    msq_err = ((test_target - f_test)**2).mean()\n",
    "    msq_errs.append(msq_err)\n",
    "    \n",
    "plt.figure()\n",
    "plt.plot(lambs, msq_errs,'b-',linewidth=2)"
   ]
  },
  {
   "cell_type": "markdown",
   "metadata": {
    "collapsed": false
   },
   "source": [
    "####(b) Describe why this is not a good way of determining the value of the regularisation parameter."
   ]
  },
  {
   "cell_type": "markdown",
   "metadata": {},
   "source": [
    "Minimising on just the test data is overfitting "
   ]
  },
  {
   "cell_type": "markdown",
   "metadata": {},
   "source": [
    "####(c) Implement a 10-fold CV on the training data and use this to determine the value of the regularisation parameter. Quote the optimal value, and the performance at this value on the test set."
   ]
  },
  {
   "cell_type": "code",
   "execution_count": 36,
   "metadata": {
    "collapsed": false
   },
   "outputs": [
    {
     "name": "stdout",
     "output_type": "stream",
     "text": [
      "optimal lambda: 2.86\n",
      "mean squared error: 0.410648781037\n"
     ]
    }
   ],
   "source": [
    "\n",
    "np.random.permutation(train_data)\n",
    "n = train_data.shape[0]\n",
    "inc = np.floor(n/10)\n",
    "lambs = np.linspace(0, 10.0, num=1001)\n",
    "optimal_lambda = np.inf\n",
    "optimal_msq_err = np.inf\n",
    "\n",
    "for i in np.arange(10):\n",
    "    r_train_indexes = np.arange(np.floor((n * i) / 10), np.floor((n * (i + 1)) / 10), dtype=int)\n",
    "    r_train_data =  np.delete(train_data, r_train_indexes, axis=0)\n",
    "    r_test_data = train_data[r_train_indexes]\n",
    "    r_test_features = np.hstack((np.ones_like(r_test_data[:,:1]), r_test_data[:,:11]))\n",
    "    r_test_target = r_test_data[:,11]\n",
    "    \n",
    "    x = r_train_data[:,:11]\n",
    "    y = r_train_data[:,11]\n",
    "    X = np.hstack((np.ones_like(x[:,:1]), x))\n",
    "    \n",
    "    dims = X.shape[1]\n",
    "    msq_errs = []\n",
    "    \n",
    "    for lamb in lambs:\n",
    "        w = np.linalg.solve(np.dot(X.T, X) + lamb*np.identity(dims),\n",
    "                            np.dot(X.T, y))\n",
    "        f_test = np.dot(r_test_features, w)\n",
    "        msq_err = ((r_test_target - f_test)**2).mean()\n",
    "        \n",
    "        #Pick the lambda value which gives the overall lowest\n",
    "        #Mean Squared Error in all CV sets\n",
    "        if (msq_err < optimal_msq_err):\n",
    "            optimal_msq_err = msq_err\n",
    "            optimal_lambda = lamb\n",
    "      \n",
    "    \n",
    "print(\"optimal lambda: \" + str(optimal_lambda))\n",
    "    \n",
    "x = train_data[:,:11]\n",
    "y = train_data[:,11]\n",
    "X = np.hstack((np.ones_like(x[:,:1]), x))\n",
    "    \n",
    "w = np.linalg.solve(np.dot(X.T, X) + optimal_lambda*np.identity(dims),\n",
    "                        np.dot(X.T, y))\n",
    "f_test = np.dot(test_features, w)\n",
    "msq_err = ((test_target - f_test)**2).mean()  \n",
    "\n",
    "print(\"mean squared error: \" + str(msq_err))\n"
   ]
  },
  {
   "cell_type": "markdown",
   "metadata": {},
   "source": [
    "####(d) Compare the performance with the standard linear regression case, discussing possible reasons for any change in performance."
   ]
  },
  {
   "cell_type": "markdown",
   "metadata": {},
   "source": []
  },
  {
   "cell_type": "markdown",
   "metadata": {},
   "source": [
    "###6. Classification"
   ]
  },
  {
   "cell_type": "markdown",
   "metadata": {},
   "source": [
    "####(a) Describe one limitation of using regression for this particular task?"
   ]
  },
  {
   "cell_type": "markdown",
   "metadata": {},
   "source": []
  },
  {
   "cell_type": "markdown",
   "metadata": {},
   "source": [
    "(b) Pick either Naive Bayes or KNN. Describe a positive and a negative feature of your\n",
    "classifier with respect to this class."
   ]
  },
  {
   "cell_type": "markdown",
   "metadata": {},
   "source": []
  },
  {
   "cell_type": "markdown",
   "metadata": {},
   "source": [
    "(c) Describe any data pre-processing that you suggest for this data and your chosen classifier."
   ]
  },
  {
   "cell_type": "markdown",
   "metadata": {},
   "source": []
  },
  {
   "cell_type": "markdown",
   "metadata": {},
   "source": [
    "(d) Implement your classifier and optimise its parameters. Make sure your optimisation is\n",
    "clearly commented. Use classification accuracy as your figure of merit."
   ]
  },
  {
   "cell_type": "code",
   "execution_count": null,
   "metadata": {
    "collapsed": true
   },
   "outputs": [],
   "source": []
  },
  {
   "cell_type": "markdown",
   "metadata": {},
   "source": [
    "(e) Display the confusion matrix on the text data"
   ]
  },
  {
   "cell_type": "code",
   "execution_count": null,
   "metadata": {
    "collapsed": true
   },
   "outputs": [],
   "source": []
  },
  {
   "cell_type": "markdown",
   "metadata": {},
   "source": [
    "(f) Discuss the performance. Suggest a way in which the performance could be improved."
   ]
  },
  {
   "cell_type": "markdown",
   "metadata": {},
   "source": []
  }
 ],
 "metadata": {
  "kernelspec": {
   "display_name": "Python 3",
   "language": "python",
   "name": "python3"
  },
  "language_info": {
   "codemirror_mode": {
    "name": "ipython",
    "version": 3
   },
   "file_extension": ".py",
   "mimetype": "text/x-python",
   "name": "python",
   "nbconvert_exporter": "python",
   "pygments_lexer": "ipython3",
   "version": "3.4.3"
  }
 },
 "nbformat": 4,
 "nbformat_minor": 0
}
