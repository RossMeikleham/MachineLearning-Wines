{
 "cells": [
  {
   "cell_type": "markdown",
   "metadata": {},
   "source": [
    "## Exercise 1:"
   ]
  },
  {
   "cell_type": "code",
   "execution_count": 1,
   "metadata": {
    "collapsed": false
   },
   "outputs": [],
   "source": [
    "import numpy as np\n",
    "import matplotlib.pyplot as plt\n",
    "\n",
    "red_data = np.loadtxt('winequality-red.csv', delimiter=';', skiprows=1)\n",
    "white_data  = np.loadtxt('winequality-white.csv', delimiter=';', skiprows=1)\n",
    "\n",
    "w_qualities = white_data[:,11]\n",
    "r_qualities = red_data[:,11]"
   ]
  },
  {
   "cell_type": "markdown",
   "metadata": {},
   "source": [
    "Exercise 2:"
   ]
  },
  {
   "cell_type": "code",
   "execution_count": 2,
   "metadata": {
    "collapsed": false
   },
   "outputs": [
    {
     "data": {
      "text/plain": [
       "<Container object of 7 artists>"
      ]
     },
     "execution_count": 2,
     "metadata": {},
     "output_type": "execute_result"
    },
    {
     "data": {
      "image/png": "[encoded data removed]",
      "text/plain": [
       "<matplotlib.figure.Figure at 0x7fe46194a2e8>"
      ]
     },
     "metadata": {},
     "output_type": "display_data"
    }
   ],
   "source": [
    "#Obtain quality ranges and counts\n",
    "w_quality_range, w_counts = np.unique(w_qualities, return_counts=True)\n",
    "r_quality_range, r_counts = np.unique(r_qualities, return_counts=True)\n",
    "\n",
    "#Plot qualities for both white and red wine\n",
    "\n",
    "%matplotlib inline\n",
    "fig = plt.figure(figsize=(12,6))\n",
    "ax1 = fig.add_subplot(121)\n",
    "ax1.set_xlabel('quality')\n",
    "plt.bar(r_quality_range, r_counts, color='r')\n",
    "\n",
    "ax2 = fig.add_subplot(122)\n",
    "ax2.set_xlabel('quality')\n",
    "plt.bar(w_quality_range, w_counts, color='w')"
   ]
  },
  {
   "cell_type": "markdown",
   "metadata": {},
   "source": [
    "Exercise 3:"
   ]
  },
  {
   "cell_type": "code",
   "execution_count": null,
   "metadata": {
    "collapsed": false
   },
   "outputs": [],
   "source": []
  },
  {
   "cell_type": "markdown",
   "metadata": {},
   "source": [
    "Exercise 4 (Linear Regression):\n",
    "\n",
    "(a) Randomly Select 30% of red wine data for testing, and 70% for training"
   ]
  },
  {
   "cell_type": "code",
   "execution_count": 19,
   "metadata": {
    "collapsed": false
   },
   "outputs": [
    {
     "name": "stdout",
     "output_type": "stream",
     "text": [
      "(1599, 11)\n"
     ]
    }
   ],
   "source": [
    "#np.random.seed(0)\n",
    "features = red_data[:,:11]\n",
    "Features = np.hstack((np.ones_like(features[:,:1]), features))\n",
    "target = red_data[:,11]\n",
    "\n",
    "#Obtain how many rows we need for training\n",
    "n_train_rows = np.floor((red_data.shape[0] * 0.7))\n",
    "#Choose a random set of row numbers to use as training data\n",
    "train_rows_nums = np.random.choice(red_data.shape[0], n_train_rows, replace=False)\n",
    "#Extract training data\n",
    "train_data = red_data[train_rows_nums]\n",
    "#The rest are test data\n",
    "test_data = np.delete(red_data, train_rows_nums, axis=0)"
   ]
  },
  {
   "cell_type": "markdown",
   "metadata": {},
   "source": [
    "(b) Fit a linear regression to the training data"
   ]
  },
  {
   "cell_type": "code",
   "execution_count": 4,
   "metadata": {
    "collapsed": false
   },
   "outputs": [],
   "source": [
    "x = train_data[:,:11]\n",
    "y = train_data[:,11]\n",
    "\n",
    "#Work out optimal value of w\n",
    "X = np.hstack((np.ones_like(x[:,:1]), x))\n",
    "w = np.linalg.solve(np.dot(X.T, X), np.dot(X.T, y))"
   ]
  },
  {
   "cell_type": "markdown",
   "metadata": {},
   "source": [
    "(c) Make a scatter plot the predictions versus the true targets for the test set and compute the\n",
    "mean squared error on the test set"
   ]
  },
  {
   "cell_type": "code",
   "execution_count": 5,
   "metadata": {
    "collapsed": false
   },
   "outputs": [
    {
     "name": "stdout",
     "output_type": "stream",
     "text": [
      "0.418030937867\n"
     ]
    },
    {
     "data": {
      "image/png": "[encoded data removed]",
      "text/plain": [
       "<matplotlib.figure.Figure at 0x7fe478227208>"
      ]
     },
     "metadata": {},
     "output_type": "display_data"
    }
   ],
   "source": [
    "actual = target\n",
    "\n",
    "predictions = np.dot(Features, w)\n",
    "plt.plot(predictions, predictions, 'b-', linewidth=2)\n",
    "plt.plot(predictions, actual, 'ro')\n",
    "plt.xlabel('Predictions')\n",
    "plt.ylabel('Actual')\n",
    "\n",
    "msqErr = ((actual - predictions)**2).mean()\n",
    "print(msqErr)"
   ]
  },
  {
   "cell_type": "markdown",
   "metadata": {},
   "source": [
    "(d) Suggest a benchmark that you could use to decide if this mean squared error value is good."
   ]
  },
  {
   "cell_type": "markdown",
   "metadata": {},
   "source": [
    "Mean squared error is a relative measurement, so the only way to decide if it's \"good\" is to compare it against the MSE of another model. We'll calculate the MSE of the linear regression model with no training (the MSE will clrearly be higher due to fitting for the entire data set), and then calculate the "
   ]
  },
  {
   "cell_type": "markdown",
   "metadata": {},
   "source": [
    "(e) Implement your benchmark"
   ]
  },
  {
   "cell_type": "code",
   "execution_count": 6,
   "metadata": {
    "collapsed": false
   },
   "outputs": [
    {
     "name": "stdout",
     "output_type": "stream",
     "text": [
      "0.416767167221\n"
     ]
    }
   ],
   "source": [
    "#Work out optimal value of w\n",
    "w = np.linalg.solve(np.dot(Features.T, Features),\n",
    "                    np.dot(Features.T, target))\n",
    "actual = target\n",
    "predictions = np.dot(Features, w)\n",
    "msq = ((actual - predictions)**2).mean()\n",
    "print(msq)"
   ]
  },
  {
   "cell_type": "markdown",
   "metadata": {},
   "source": [
    "(f) Briefly discuss the linear regression performance with respect to the benchmark."
   ]
  },
  {
   "cell_type": "markdown",
   "metadata": {},
   "source": []
  },
  {
   "cell_type": "code",
   "execution_count": null,
   "metadata": {
    "collapsed": false
   },
   "outputs": [],
   "source": []
  },
  {
   "cell_type": "markdown",
   "metadata": {},
   "source": [
    "5. Regularised linear regression:"
   ]
  },
  {
   "cell_type": "markdown",
   "metadata": {},
   "source": [
    "(a) Implement regularised least squares and make a plot of the test performance versus the\n",
    "regularisation parameter."
   ]
  },
  {
   "cell_type": "code",
   "execution_count": 24,
   "metadata": {
    "collapsed": false
   },
   "outputs": [
    {
     "data": {
      "text/plain": [
       "<matplotlib.text.Text at 0x7fe458ffb940>"
      ]
     },
     "execution_count": 24,
     "metadata": {},
     "output_type": "execute_result"
    },
    {
     "data": {
      "image/png": "[encoded data removed]",
      "text/plain": [
       "<matplotlib.figure.Figure at 0x7fe4593bc390>"
      ]
     },
     "metadata": {},
     "output_type": "display_data"
    }
   ],
   "source": [
    "msqes = []\n",
    "lambs = np.linspace(0.0, 10.0, num=100)\n",
    "dims = Features.shape[1]\n",
    "for lamb in lambs:\n",
    "    w = np.linalg.solve(np.dot(Features.T, Features) + lamb*np.identity(dims),\n",
    "                        np.dot(Features.T, target))\n",
    "    f_test = np.dot(Features, w)\n",
    "    actual = target\n",
    "    msq = ((actual - f_test)**2).mean()\n",
    "    msqes.append(msq)\n",
    "    \n",
    "plt.figure()\n",
    "plt.plot(lambs, msqes,'b-',linewidth=2)\n",
    "plt.title(title)"
   ]
  },
  {
   "cell_type": "markdown",
   "metadata": {
    "collapsed": false
   },
   "source": [
    "(b) Describe why this is not a good way of determining the value of the regularisation\n",
    "parameter."
   ]
  },
  {
   "cell_type": "markdown",
   "metadata": {},
   "source": [
    "Minimising on just the test data is overfitting "
   ]
  }
 ],
 "metadata": {
  "kernelspec": {
   "display_name": "Python 3",
   "language": "python",
   "name": "python3"
  },
  "language_info": {
   "codemirror_mode": {
    "name": "ipython",
    "version": 3
   },
   "file_extension": ".py",
   "mimetype": "text/x-python",
   "name": "python",
   "nbconvert_exporter": "python",
   "pygments_lexer": "ipython3",
   "version": "3.4.3"
  }
 },
 "nbformat": 4,
 "nbformat_minor": 0
}
