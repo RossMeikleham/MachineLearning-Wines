{
 "metadata": {
  "name": "",
  "signature": "sha256:6cefaea622a6cec735d6bb73e18370d1cf826e1f8fdc7c2780cee35b1a812dd1"
 },
 "nbformat": 3,
 "nbformat_minor": 0,
 "worksheets": [
  {
   "cells": [
    {
     "cell_type": "code",
     "collapsed": false,
     "input": [
      "import numpy as np\n",
      "import matplotlib.pyplot as plt\n",
      "\n",
      "white_data = np.loadtxt('winequality-red.csv', delimiter=';', skiprows=1)\n",
      "red_data  = np.loadtxt('winequality-white.csv', delimiter=';', skiprows=1)\n",
      "\n",
      "w_qualities = white_data[:,11][:,None]\n",
      "r_qualities = red_data[:,11][:,None]\n",
      "\n",
      "#Obtain quality ranges and counts\n",
      "w_quality_range, w_counts = np.unique(target_white, return_counts=True)\n",
      "r_quality_range, r_counts = np.unique(target_red, return_counts=True)\n",
      "\n",
      "#Plot qualities for both white and red wine\n",
      "fig, ax = plt.subplots()\n",
      "red_rects = plt.bar(r_quality_range, r_counts, color='r')\n",
      "plt.xlabel('quality')\n",
      "plt.show()\n",
      "\n",
      "white_rects = plt.bar(w_quality_range, w_counts, color='w')\n",
      "plt.xlabel('quality')\n",
      "plt.show()"
     ],
     "language": "python",
     "metadata": {},
     "outputs": [
      {
       "output_type": "stream",
       "stream": "stdout",
       "text": [
        "[ 3.  4.  5.  6.  7.  8.  9.]\n"
       ]
      }
     ],
     "prompt_number": 40
    },
    {
     "cell_type": "code",
     "collapsed": false,
     "input": [],
     "language": "python",
     "metadata": {},
     "outputs": [],
     "prompt_number": 3
    },
    {
     "cell_type": "code",
     "collapsed": false,
     "input": [],
     "language": "python",
     "metadata": {},
     "outputs": []
    }
   ],
   "metadata": {}
  }
 ]
}