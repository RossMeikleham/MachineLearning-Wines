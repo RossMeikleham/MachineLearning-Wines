{
 "metadata": {
  "name": "",
  "signature": "sha256:fe59e8ec3496cdfb047ffcb204eb0d30e014f4a7078d46773109d1cf07520a3f"
 },
 "nbformat": 3,
 "nbformat_minor": 0,
 "worksheets": [
  {
   "cells": [
    {
     "cell_type": "code",
     "collapsed": false,
     "input": [
      "import numpy as np\n",
      "import matplotlib.pyplot as plt\n",
      "\n",
      "white_data = np.loadtxt('winequality-red.csv', delimiter=';', skiprows=1)\n",
      "red_data  = np.loadtxt('winequality-white.csv', delimiter=';', skiprows=1)\n",
      "\n",
      "w_qualities = white_data[:,11][:,None]\n",
      "r_qualities = red_data[:,11][:,None]\n",
      "\n",
      "#Obtain quality ranges and counts\n",
      "w_quality_range, w_counts = np.unique(w_qualities, return_counts=True)\n",
      "r_quality_range, r_counts = np.unique(r_qualities, return_counts=True)\n",
      "\n",
      "#Plot qualities for both white and red wine\n",
      "\n",
      "%matplotlib inline\n",
      "fig = plt.figure(figsize=(12,6))\n",
      "ax1 = fig.add_subplot(121)\n",
      "ax1.set_xlabel('quality')\n",
      "plt.bar(r_quality_range, r_counts, color='r')\n",
      "\n",
      "ax2 = fig.add_subplot(122)\n",
      "ax2.set_xlabel('quality')\n",
      "plt.bar(w_quality_range, w_counts, color='w')"
     ],
     "language": "python",
     "metadata": {},
     "outputs": [
      {
       "metadata": {},
       "output_type": "pyout",
       "prompt_number": 18,
       "text": [
        "<Container object of 6 artists>"
       ]
      },
      {
       "metadata": {},
       "output_type": "display_data",
       "png": "[encoded data removed]",
       "text": [
        "<matplotlib.figure.Figure at 0x7f3920349320>"
       ]
      }
     ],
     "prompt_number": 18
    },
    {
     "cell_type": "code",
     "collapsed": false,
     "input": [],
     "language": "python",
     "metadata": {},
     "outputs": [],
     "prompt_number": 11
    },
    {
     "cell_type": "code",
     "collapsed": false,
     "input": [],
     "language": "python",
     "metadata": {},
     "outputs": []
    }
   ],
   "metadata": {}
  }
 ]
}