{
 "metadata": {
  "name": "",
  "signature": "sha256:b3adce796064776b7c536a7d4f0e70679176d256bdb963b60a8c5186a37b8b5a"
 },
 "nbformat": 3,
 "nbformat_minor": 0,
 "worksheets": [
  {
   "cells": [
    {
     "cell_type": "heading",
     "level": 2,
     "metadata": {},
     "source": [
      "Exercise 1:"
     ]
    },
    {
     "cell_type": "code",
     "collapsed": false,
     "input": [
      "import numpy as np\n",
      "import matplotlib.pyplot as plt\n",
      "\n",
      "red_data = np.loadtxt('winequality-red.csv', delimiter=';', skiprows=1)\n",
      "white_data  = np.loadtxt('winequality-white.csv', delimiter=';', skiprows=1)\n",
      "\n",
      "w_qualities = white_data[:,11]\n",
      "r_qualities = red_data[:,11]"
     ],
     "language": "python",
     "metadata": {},
     "outputs": [],
     "prompt_number": 25
    },
    {
     "cell_type": "markdown",
     "metadata": {},
     "source": [
      "Exercise 2:"
     ]
    },
    {
     "cell_type": "code",
     "collapsed": false,
     "input": [
      "#Obtain quality ranges and counts\n",
      "w_quality_range, w_counts = np.unique(w_qualities, return_counts=True)\n",
      "r_quality_range, r_counts = np.unique(r_qualities, return_counts=True)\n",
      "\n",
      "#Plot qualities for both white and red wine\n",
      "\n",
      "%matplotlib inline\n",
      "fig = plt.figure(figsize=(12,6))\n",
      "ax1 = fig.add_subplot(121)\n",
      "ax1.set_xlabel('quality')\n",
      "plt.bar(r_quality_range, r_counts, color='r')\n",
      "\n",
      "ax2 = fig.add_subplot(122)\n",
      "ax2.set_xlabel('quality')\n",
      "plt.bar(w_quality_range, w_counts, color='w')"
     ],
     "language": "python",
     "metadata": {},
     "outputs": [
      {
       "metadata": {},
       "output_type": "pyout",
       "prompt_number": 26,
       "text": [
        "<Container object of 7 artists>"
       ]
      },
      {
       "metadata": {},
       "output_type": "display_data",
       "png": "[encoded data removed]",
       "text": [
        "<matplotlib.figure.Figure at 0x7f111a3cb320>"
       ]
      }
     ],
     "prompt_number": 26
    },
    {
     "cell_type": "markdown",
     "metadata": {},
     "source": [
      "Exercise 3:"
     ]
    },
    {
     "cell_type": "code",
     "collapsed": false,
     "input": [],
     "language": "python",
     "metadata": {},
     "outputs": [],
     "prompt_number": 26
    },
    {
     "cell_type": "markdown",
     "metadata": {},
     "source": [
      "Exercise 4 (Linear Regression):\n",
      "\n",
      "(a) Randomly Select 30% of red wine data for testing, and 70% for training"
     ]
    },
    {
     "cell_type": "code",
     "collapsed": false,
     "input": [
      "#np.random.seed(0)\n",
      "features = red_data[:,:11]\n",
      "Features = np.hstack((np.ones_like(features[:,:1]), features))\n",
      "target = red_data[:,11]\n",
      "\n",
      "#Obtain how many rows we need for training\n",
      "n_train_rows = np.floor((red_data.shape[0] * 0.7))\n",
      "#Choose a random set of row numbers to use as training data\n",
      "train_rows_nums = np.random.choice(red_data.shape[0], n_train_rows, replace=False)\n",
      "#Extract training data\n",
      "train_data = red_data[train_rows_nums]\n",
      "#The rest are test data\n",
      "test_data = np.delete(red_data, train_rows_nums, axis=0)"
     ],
     "language": "python",
     "metadata": {},
     "outputs": [],
     "prompt_number": 27
    },
    {
     "cell_type": "markdown",
     "metadata": {},
     "source": [
      "(b) Fit a linear regression to the training data"
     ]
    },
    {
     "cell_type": "code",
     "collapsed": false,
     "input": [
      "train_features = train_data[:,:11]\n",
      "train_Features = np.hstack((np.ones_like(train_features[:,:1]),train_features))\n",
      "train_target = train_data[:,11]\n",
      "\n",
      "#Work out optimal value of w\n",
      "X_train = np.hstack((np.ones_like(train_features), train_features))\n",
      "w_train = np.linalg.solve(np.dot(train_Features.T, train_Features),\n",
      "                    np.dot(train_Features.T, train_target))"
     ],
     "language": "python",
     "metadata": {},
     "outputs": [],
     "prompt_number": 28
    },
    {
     "cell_type": "markdown",
     "metadata": {},
     "source": [
      "(c) Make a scatter plot the predictions versus the true targets for the test set and compute the\n",
      "mean squared error on the test set"
     ]
    },
    {
     "cell_type": "code",
     "collapsed": false,
     "input": [
      "actual = target\n",
      "\n",
      "predictions = np.dot(Features, w_train)\n",
      "plt.plot(predictions, predictions, 'b-', linewidth=2)\n",
      "plt.plot(predictions, actual, 'ro')\n",
      "plt.xlabel('Predictions')\n",
      "plt.ylabel('Actual')\n",
      "\n",
      "msqErr = ((actual - predictions)**2).mean()\n",
      "print(msqErr)"
     ],
     "language": "python",
     "metadata": {},
     "outputs": [
      {
       "output_type": "stream",
       "stream": "stdout",
       "text": [
        "0.418122205583\n"
       ]
      },
      {
       "metadata": {},
       "output_type": "display_data",
       "png": "[encoded data removed]",
       "text": [
        "<matplotlib.figure.Figure at 0x7f1119d4a2e8>"
       ]
      }
     ],
     "prompt_number": 29
    },
    {
     "cell_type": "markdown",
     "metadata": {},
     "source": [
      "(d) Suggest a benchmark that you could use to decide if this mean squared error value is good."
     ]
    },
    {
     "cell_type": "markdown",
     "metadata": {},
     "source": [
      "Mean squared error is a relative measurement, so the only way to decide if it's \"good\" is to compare it against the MSE of another model. We'll calculate the MSE of the linear regression model with no training (the MSE will clrearly be higher due to fitting for the entire data set), and then calculate the "
     ]
    },
    {
     "cell_type": "markdown",
     "metadata": {},
     "source": [
      "(e) Implement your benchmark"
     ]
    },
    {
     "cell_type": "code",
     "collapsed": false,
     "input": [
      "#Work out optimal value of w\n",
      "w = np.linalg.solve(np.dot(Features.T, Features),\n",
      "                    np.dot(Features.T, target))\n",
      "actual = target\n",
      "predictions = np.dot(Features, w)\n",
      "msq = ((actual - predictions)**2).mean()\n",
      "print(msq)"
     ],
     "language": "python",
     "metadata": {},
     "outputs": [
      {
       "output_type": "stream",
       "stream": "stdout",
       "text": [
        "0.416767167221\n"
       ]
      }
     ],
     "prompt_number": 30
    },
    {
     "cell_type": "markdown",
     "metadata": {},
     "source": [
      "(f) Briefly discuss the linear regression performance with respect to the benchmark."
     ]
    },
    {
     "cell_type": "markdown",
     "metadata": {},
     "source": []
    },
    {
     "cell_type": "code",
     "collapsed": false,
     "input": [],
     "language": "python",
     "metadata": {},
     "outputs": [],
     "prompt_number": 30
    },
    {
     "cell_type": "code",
     "collapsed": false,
     "input": [],
     "language": "python",
     "metadata": {},
     "outputs": [],
     "prompt_number": 30
    }
   ],
   "metadata": {}
  }
 ]
}