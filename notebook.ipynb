{
 "metadata": {
  "name": "",
  "signature": "sha256:2c7c15ba93ce27e941f7bcfe51885e6a84815cf3376b4a4c97c4df1bd23172bc"
 },
 "nbformat": 3,
 "nbformat_minor": 0,
 "worksheets": [
  {
   "cells": [
    {
     "cell_type": "code",
     "collapsed": false,
     "input": [
      "import numpy as np\n",
      "import matplotlib.pyplot as plt\n",
      "\n",
      "white_data = np.loadtxt('winequality-red.csv', delimiter=';', skiprows=1)\n",
      "red_data  = np.loadtxt('winequality-white.csv', delimiter=';', skiprows=1)\n",
      "\n",
      "w_qualities = white_data[:,11][:,None]\n",
      "r_qualities = red_data[:,11][:,None]\n",
      "\n",
      "#Obtain quality ranges and counts\n",
      "w_quality_range, w_counts = np.unique(w_qualities, return_counts=True)\n",
      "r_quality_range, r_counts = np.unique(r_qualities, return_counts=True)\n",
      "\n",
      "#Plot qualities for both white and red wine\n",
      "fig, ax = plt.subplots()\n",
      "red_rects = plt.bar(r_quality_range, r_counts, color='r')\n",
      "plt.xlabel('quality')\n",
      "plt.show()\n",
      "\n",
      "white_rects = plt.bar(w_quality_range, w_counts, color='w')\n",
      "plt.xlabel('quality')\n",
      "plt.show()"
     ],
     "language": "python",
     "metadata": {},
     "outputs": [],
     "prompt_number": 1
    },
    {
     "cell_type": "code",
     "collapsed": false,
     "input": [],
     "language": "python",
     "metadata": {},
     "outputs": [],
     "prompt_number": 3
    },
    {
     "cell_type": "code",
     "collapsed": false,
     "input": [],
     "language": "python",
     "metadata": {},
     "outputs": []
    }
   ],
   "metadata": {}
  }
 ]
}